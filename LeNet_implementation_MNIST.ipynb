{
 "cells": [
  {
   "cell_type": "markdown",
   "id": "df91ae06",
   "metadata": {},
   "source": [
    "# LeNet CNN implementation in Keras"
   ]
  },
  {
   "cell_type": "markdown",
   "id": "147a79ea",
   "metadata": {},
   "source": [
    "Following code implements a Convolutional Neural Networks based on LeNet Architecture, trained and evaluated on MNIST dataset.\n",
    "Implementation is done in TensorFlow-Keras framework."
   ]
  },
  {
   "cell_type": "markdown",
   "id": "5b25c0b6",
   "metadata": {},
   "source": [
    "References:\n",
    "- Deep Learning for Vision Systems, Mohamed Elgendy\n",
    "- Complete Tensorflow 2 and Keras Deep Learning Bootcamp, Jose Portilla [https://www.udemy.com/course/complete-tensorflow-2-and-keras-deep-learning-bootcamp/]"
   ]
  },
  {
   "cell_type": "markdown",
   "id": "4ce4c8de",
   "metadata": {},
   "source": [
    "### Load MNIST Dataset "
   ]
  },
  {
   "cell_type": "code",
   "execution_count": 1,
   "id": "3a4ba7f4",
   "metadata": {},
   "outputs": [],
   "source": [
    "from keras.datasets import mnist"
   ]
  },
  {
   "cell_type": "code",
   "execution_count": 2,
   "id": "427806b3",
   "metadata": {},
   "outputs": [],
   "source": [
    "(X_train, y_train), (X_test, y_test) = mnist.load_data()"
   ]
  },
  {
   "cell_type": "markdown",
   "id": "82bb087e",
   "metadata": {},
   "source": [
    "Convert train and test data to 32-bit float data type."
   ]
  },
  {
   "cell_type": "code",
   "execution_count": 3,
   "id": "59e3d60a",
   "metadata": {},
   "outputs": [],
   "source": [
    "X_train = X_train.astype('float32')\n",
    "X_test = X_test.astype('float32')"
   ]
  },
  {
   "cell_type": "markdown",
   "id": "c085104e",
   "metadata": {},
   "source": [
    "### Visualize Images"
   ]
  },
  {
   "cell_type": "code",
   "execution_count": 6,
   "id": "8c0622b8",
   "metadata": {},
   "outputs": [],
   "source": [
    "import matplotlib.pyplot as plt\n",
    "import numpy as np"
   ]
  },
  {
   "cell_type": "code",
   "execution_count": 9,
   "id": "ac492538",
   "metadata": {},
   "outputs": [
    {
     "data": {
      "image/png": "[encoded data removed]",
      "text/plain": [
       "<Figure size 720x720 with 6 Axes>"
      ]
     },
     "metadata": {
      "needs_background": "light"
     },
     "output_type": "display_data"
    }
   ],
   "source": [
    "fig = plt.figure(figsize=(10,10))\n",
    "for i in range(6):\n",
    "    ax = fig.add_subplot(3,2,i+1)\n",
    "    ax.imshow(X_train[i], cmap='gray')\n",
    "    ax.set_title(str(y_train[i]))"
   ]
  },
  {
   "cell_type": "markdown",
   "id": "42d33799",
   "metadata": {},
   "source": [
    "### Preprocess Labels"
   ]
  },
  {
   "cell_type": "markdown",
   "id": "07f655fa",
   "metadata": {},
   "source": [
    "Apply categorical encoding for labels."
   ]
  },
  {
   "cell_type": "code",
   "execution_count": 4,
   "id": "154f670f",
   "metadata": {},
   "outputs": [],
   "source": [
    "from keras.utils import np_utils"
   ]
  },
  {
   "cell_type": "code",
   "execution_count": 10,
   "id": "0b1868ca",
   "metadata": {},
   "outputs": [],
   "source": [
    "y_cat_train = np_utils.to_categorical(y_train,num_classes=10)\n",
    "y_cat_test = np_utils.to_categorical(y_test,num_classes=10)"
   ]
  },
  {
   "cell_type": "code",
   "execution_count": 11,
   "id": "d550bd05",
   "metadata": {},
   "outputs": [
    {
     "data": {
      "text/plain": [
       "(60000,)"
      ]
     },
     "execution_count": 11,
     "metadata": {},
     "output_type": "execute_result"
    }
   ],
   "source": [
    "y_train.shape"
   ]
  },
  {
   "cell_type": "code",
   "execution_count": 12,
   "id": "c6e8bb74",
   "metadata": {},
   "outputs": [
    {
     "data": {
      "text/plain": [
       "(60000, 10)"
      ]
     },
     "execution_count": 12,
     "metadata": {},
     "output_type": "execute_result"
    }
   ],
   "source": [
    "y_cat_train.shape"
   ]
  },
  {
   "cell_type": "markdown",
   "id": "b0ac4074",
   "metadata": {},
   "source": [
    "### Preprocess Images "
   ]
  },
  {
   "cell_type": "markdown",
   "id": "aa7bd04b",
   "metadata": {},
   "source": [
    "Apply standard normalization for pixel image values."
   ]
  },
  {
   "cell_type": "code",
   "execution_count": 13,
   "id": "d25a3388",
   "metadata": {},
   "outputs": [],
   "source": [
    "mean = np.mean(X_train)\n",
    "std = np.std(X_train)"
   ]
  },
  {
   "cell_type": "code",
   "execution_count": 14,
   "id": "9fb04fa2",
   "metadata": {},
   "outputs": [],
   "source": [
    "X_train = (X_train-mean) / (std+1e-7)\n",
    "X_test = (X_test-mean) / (std+1e-7)"
   ]
  },
  {
   "cell_type": "markdown",
   "id": "f0ab6964",
   "metadata": {},
   "source": [
    "### Reshape Data"
   ]
  },
  {
   "cell_type": "markdown",
   "id": "fefd3020",
   "metadata": {},
   "source": [
    "Reshape train and test data for model input. "
   ]
  },
  {
   "cell_type": "code",
   "execution_count": 15,
   "id": "60597eee",
   "metadata": {},
   "outputs": [],
   "source": [
    "X_train = X_train.reshape(X_train.shape[0], 28, 28, 1)\n",
    "X_test = X_test.reshape(X_test.shape[0], 28, 28, 1)"
   ]
  },
  {
   "cell_type": "markdown",
   "id": "01524a6b",
   "metadata": {},
   "source": [
    "### Create the Model"
   ]
  },
  {
   "cell_type": "markdown",
   "id": "0f6d9aa1",
   "metadata": {},
   "source": [
    "Creating LeNet Neural Network architecture model. For details check the paper: http://yann.lecun.com/exdb/publis/pdf/lecun-98.pdf \n",
    "\n",
    "Note that, this is not the exact implementation of the architecture proposed in the paper."
   ]
  },
  {
   "cell_type": "code",
   "execution_count": 16,
   "id": "b6357227",
   "metadata": {},
   "outputs": [],
   "source": [
    "from keras.models import Sequential\n",
    "from keras.layers import Conv2D, Dense, Flatten, AveragePooling2D"
   ]
  },
  {
   "cell_type": "code",
   "execution_count": 18,
   "id": "344ba203",
   "metadata": {},
   "outputs": [],
   "source": [
    "model = Sequential()\n",
    "model.add(Conv2D(filters=6, kernel_size=(2,2), strides=(1,1), activation='tanh', padding='same', input_shape=(28,28,1)))\n",
    "model.add(AveragePooling2D(pool_size=(2,2), strides=2, padding='valid'))\n",
    "model.add(Conv2D(filters=16, kernel_size=(5,5), strides=(1,1), activation='tanh', padding='valid'))\n",
    "model.add(AveragePooling2D(pool_size=(2,2), strides=2, padding='valid'))\n",
    "model.add(Conv2D(filters=120, kernel_size=(5,5), strides=(1,1), activation='tanh', padding='valid'))\n",
    "\n",
    "model.add(Flatten())\n",
    "model.add(Dense(84, activation='tanh'))\n",
    "model.add(Dense(10, activation='softmax'))"
   ]
  },
  {
   "cell_type": "code",
   "execution_count": 20,
   "id": "52b1f88f",
   "metadata": {},
   "outputs": [
    {
     "name": "stdout",
     "output_type": "stream",
     "text": [
      "Model: \"sequential_1\"\n",
      "_________________________________________________________________\n",
      " Layer (type)                Output Shape              Param #   \n",
      "=================================================================\n",
      " conv2d_3 (Conv2D)           (None, 28, 28, 6)         30        \n",
      "                                                                 \n",
      " average_pooling2d_2 (Averag  (None, 14, 14, 6)        0         \n",
      " ePooling2D)                                                     \n",
      "                                                                 \n",
      " conv2d_4 (Conv2D)           (None, 10, 10, 16)        2416      \n",
      "                                                                 \n",
      " average_pooling2d_3 (Averag  (None, 5, 5, 16)         0         \n",
      " ePooling2D)                                                     \n",
      "                                                                 \n",
      " conv2d_5 (Conv2D)           (None, 1, 1, 120)         48120     \n",
      "                                                                 \n",
      " flatten (Flatten)           (None, 120)               0         \n",
      "                                                                 \n",
      " dense (Dense)               (None, 84)                10164     \n",
      "                                                                 \n",
      " dense_1 (Dense)             (None, 10)                850       \n",
      "                                                                 \n",
      "=================================================================\n",
      "Total params: 61,580\n",
      "Trainable params: 61,580\n",
      "Non-trainable params: 0\n",
      "_________________________________________________________________\n"
     ]
    }
   ],
   "source": [
    "model.summary()"
   ]
  },
  {
   "cell_type": "markdown",
   "id": "8c53db75",
   "metadata": {},
   "source": [
    "### Compile the Model "
   ]
  },
  {
   "cell_type": "markdown",
   "id": "3013d6fe",
   "metadata": {},
   "source": [
    "Using Adam as optimizer method, as it yields plausible results. Using categorical cross entropy loss, because this problem is a multi-class classification problem. Accuracy is used as an evaluation metric."
   ]
  },
  {
   "cell_type": "code",
   "execution_count": 21,
   "id": "04d85498",
   "metadata": {},
   "outputs": [],
   "source": [
    "model.compile(optimizer='adam', loss='categorical_crossentropy', metrics=['accuracy'])"
   ]
  },
  {
   "cell_type": "markdown",
   "id": "deae4a43",
   "metadata": {},
   "source": [
    "### Create Callbacks for training"
   ]
  },
  {
   "cell_type": "code",
   "execution_count": 22,
   "id": "4174e215",
   "metadata": {},
   "outputs": [],
   "source": [
    "from keras.callbacks import LearningRateScheduler, ModelCheckpoint, EarlyStopping"
   ]
  },
  {
   "cell_type": "markdown",
   "id": "e9928731",
   "metadata": {},
   "source": [
    "Creating Learning Rate Scheduler callback function, whose purpose is to adjust learning rate in different epochs."
   ]
  },
  {
   "cell_type": "code",
   "execution_count": 23,
   "id": "bc07de1d",
   "metadata": {},
   "outputs": [],
   "source": [
    "def lr_schedule(epoch):\n",
    "    if epoch<=2:\n",
    "        lr = 5e-4\n",
    "    elif epoch>2 and epoch<=4:\n",
    "        lr = 1e-4\n",
    "    elif epoch<4 and epoch<=8:\n",
    "        lr = 5e-5\n",
    "    else:\n",
    "        lr = 1e-5\n",
    "    \n",
    "    return lr"
   ]
  },
  {
   "cell_type": "code",
   "execution_count": 25,
   "id": "1e354b4d",
   "metadata": {},
   "outputs": [],
   "source": [
    "lr_scheduler = LearningRateScheduler(schedule=lr_schedule)"
   ]
  },
  {
   "cell_type": "markdown",
   "id": "c7b82316",
   "metadata": {},
   "source": [
    "Creating Model Checkpoint callback function that will save the model weights as a file."
   ]
  },
  {
   "cell_type": "code",
   "execution_count": 26,
   "id": "0e461e2b",
   "metadata": {},
   "outputs": [],
   "source": [
    "checkpoint = ModelCheckpoint('lenet_mnist.best.hdf5', save_best_only=True, verbose=1)"
   ]
  },
  {
   "cell_type": "markdown",
   "id": "cabfc9b8",
   "metadata": {},
   "source": [
    "Creating Early Stopping callback function that will stop training based on evaluation of specified metric."
   ]
  },
  {
   "cell_type": "code",
   "execution_count": 27,
   "id": "a4aef78e",
   "metadata": {},
   "outputs": [],
   "source": [
    "early_stop = EarlyStopping(monitor='val_loss', patience=2)"
   ]
  },
  {
   "cell_type": "markdown",
   "id": "5ea79304",
   "metadata": {},
   "source": [
    "### Train the Model "
   ]
  },
  {
   "cell_type": "code",
   "execution_count": 28,
   "id": "eba71d86",
   "metadata": {},
   "outputs": [
    {
     "name": "stdout",
     "output_type": "stream",
     "text": [
      "Epoch 1/20\n",
      "1499/1500 [============================>.] - ETA: 0s - loss: 0.2952 - accuracy: 0.9123\n",
      "Epoch 1: val_loss improved from inf to 0.13968, saving model to lenet_mnist.best.hdf5\n",
      "1500/1500 [==============================] - 14s 7ms/step - loss: 0.2951 - accuracy: 0.9124 - val_loss: 0.1397 - val_accuracy: 0.9597 - lr: 5.0000e-04\n",
      "Epoch 2/20\n",
      "1497/1500 [============================>.] - ETA: 0s - loss: 0.1085 - accuracy: 0.9671\n",
      "Epoch 2: val_loss improved from 0.13968 to 0.08266, saving model to lenet_mnist.best.hdf5\n",
      "1500/1500 [==============================] - 11s 7ms/step - loss: 0.1085 - accuracy: 0.9671 - val_loss: 0.0827 - val_accuracy: 0.9750 - lr: 5.0000e-04\n",
      "Epoch 3/20\n",
      "1492/1500 [============================>.] - ETA: 0s - loss: 0.0683 - accuracy: 0.9789\n",
      "Epoch 3: val_loss improved from 0.08266 to 0.07260, saving model to lenet_mnist.best.hdf5\n",
      "1500/1500 [==============================] - 10s 7ms/step - loss: 0.0681 - accuracy: 0.9788 - val_loss: 0.0726 - val_accuracy: 0.9772 - lr: 5.0000e-04\n",
      "Epoch 4/20\n",
      "1498/1500 [============================>.] - ETA: 0s - loss: 0.0411 - accuracy: 0.9878\n",
      "Epoch 4: val_loss improved from 0.07260 to 0.05317, saving model to lenet_mnist.best.hdf5\n",
      "1500/1500 [==============================] - 10s 7ms/step - loss: 0.0411 - accuracy: 0.9878 - val_loss: 0.0532 - val_accuracy: 0.9826 - lr: 1.0000e-04\n",
      "Epoch 5/20\n",
      "1496/1500 [============================>.] - ETA: 0s - loss: 0.0364 - accuracy: 0.9890\n",
      "Epoch 5: val_loss improved from 0.05317 to 0.05301, saving model to lenet_mnist.best.hdf5\n",
      "1500/1500 [==============================] - 10s 7ms/step - loss: 0.0363 - accuracy: 0.9890 - val_loss: 0.0530 - val_accuracy: 0.9833 - lr: 1.0000e-04\n",
      "Epoch 6/20\n",
      "1500/1500 [==============================] - ETA: 0s - loss: 0.0308 - accuracy: 0.9916\n",
      "Epoch 6: val_loss improved from 0.05301 to 0.04958, saving model to lenet_mnist.best.hdf5\n",
      "1500/1500 [==============================] - 10s 7ms/step - loss: 0.0308 - accuracy: 0.9916 - val_loss: 0.0496 - val_accuracy: 0.9844 - lr: 1.0000e-05\n",
      "Epoch 7/20\n",
      "1496/1500 [============================>.] - ETA: 0s - loss: 0.0298 - accuracy: 0.9919\n",
      "Epoch 7: val_loss improved from 0.04958 to 0.04944, saving model to lenet_mnist.best.hdf5\n",
      "1500/1500 [==============================] - 10s 7ms/step - loss: 0.0299 - accuracy: 0.9919 - val_loss: 0.0494 - val_accuracy: 0.9838 - lr: 1.0000e-05\n",
      "Epoch 8/20\n",
      "1499/1500 [============================>.] - ETA: 0s - loss: 0.0294 - accuracy: 0.9919\n",
      "Epoch 8: val_loss improved from 0.04944 to 0.04902, saving model to lenet_mnist.best.hdf5\n",
      "1500/1500 [==============================] - 11s 7ms/step - loss: 0.0294 - accuracy: 0.9919 - val_loss: 0.0490 - val_accuracy: 0.9842 - lr: 1.0000e-05\n",
      "Epoch 9/20\n",
      "1494/1500 [============================>.] - ETA: 0s - loss: 0.0290 - accuracy: 0.9920\n",
      "Epoch 9: val_loss improved from 0.04902 to 0.04859, saving model to lenet_mnist.best.hdf5\n",
      "1500/1500 [==============================] - 10s 7ms/step - loss: 0.0290 - accuracy: 0.9920 - val_loss: 0.0486 - val_accuracy: 0.9845 - lr: 1.0000e-05\n",
      "Epoch 10/20\n",
      "1492/1500 [============================>.] - ETA: 0s - loss: 0.0286 - accuracy: 0.9924\n",
      "Epoch 10: val_loss did not improve from 0.04859\n",
      "1500/1500 [==============================] - 10s 7ms/step - loss: 0.0286 - accuracy: 0.9924 - val_loss: 0.0489 - val_accuracy: 0.9847 - lr: 1.0000e-05\n",
      "Epoch 11/20\n",
      "1491/1500 [============================>.] - ETA: 0s - loss: 0.0283 - accuracy: 0.9921\n",
      "Epoch 11: val_loss improved from 0.04859 to 0.04828, saving model to lenet_mnist.best.hdf5\n",
      "1500/1500 [==============================] - 10s 7ms/step - loss: 0.0283 - accuracy: 0.9921 - val_loss: 0.0483 - val_accuracy: 0.9844 - lr: 1.0000e-05\n",
      "Epoch 12/20\n",
      "1499/1500 [============================>.] - ETA: 0s - loss: 0.0280 - accuracy: 0.9924\n",
      "Epoch 12: val_loss improved from 0.04828 to 0.04800, saving model to lenet_mnist.best.hdf5\n",
      "1500/1500 [==============================] - 10s 7ms/step - loss: 0.0280 - accuracy: 0.9924 - val_loss: 0.0480 - val_accuracy: 0.9848 - lr: 1.0000e-05\n",
      "Epoch 13/20\n",
      "1497/1500 [============================>.] - ETA: 0s - loss: 0.0276 - accuracy: 0.9926\n",
      "Epoch 13: val_loss improved from 0.04800 to 0.04750, saving model to lenet_mnist.best.hdf5\n",
      "1500/1500 [==============================] - 10s 7ms/step - loss: 0.0276 - accuracy: 0.9926 - val_loss: 0.0475 - val_accuracy: 0.9850 - lr: 1.0000e-05\n",
      "Epoch 14/20\n",
      "1496/1500 [============================>.] - ETA: 0s - loss: 0.0273 - accuracy: 0.9926\n",
      "Epoch 14: val_loss did not improve from 0.04750\n",
      "1500/1500 [==============================] - 11s 7ms/step - loss: 0.0273 - accuracy: 0.9926 - val_loss: 0.0476 - val_accuracy: 0.9851 - lr: 1.0000e-05\n",
      "Epoch 15/20\n",
      "1495/1500 [============================>.] - ETA: 0s - loss: 0.0270 - accuracy: 0.9928\n",
      "Epoch 15: val_loss improved from 0.04750 to 0.04746, saving model to lenet_mnist.best.hdf5\n",
      "1500/1500 [==============================] - 11s 7ms/step - loss: 0.0270 - accuracy: 0.9928 - val_loss: 0.0475 - val_accuracy: 0.9851 - lr: 1.0000e-05\n",
      "Epoch 16/20\n",
      "1496/1500 [============================>.] - ETA: 0s - loss: 0.0267 - accuracy: 0.9927\n",
      "Epoch 16: val_loss did not improve from 0.04746\n",
      "1500/1500 [==============================] - 10s 7ms/step - loss: 0.0267 - accuracy: 0.9927 - val_loss: 0.0475 - val_accuracy: 0.9849 - lr: 1.0000e-05\n",
      "Epoch 17/20\n",
      "1499/1500 [============================>.] - ETA: 0s - loss: 0.0264 - accuracy: 0.9929\n",
      "Epoch 17: val_loss improved from 0.04746 to 0.04745, saving model to lenet_mnist.best.hdf5\n",
      "1500/1500 [==============================] - 10s 7ms/step - loss: 0.0264 - accuracy: 0.9929 - val_loss: 0.0475 - val_accuracy: 0.9852 - lr: 1.0000e-05\n",
      "Epoch 18/20\n",
      "1498/1500 [============================>.] - ETA: 0s - loss: 0.0260 - accuracy: 0.9931\n",
      "Epoch 18: val_loss did not improve from 0.04745\n",
      "1500/1500 [==============================] - 10s 7ms/step - loss: 0.0260 - accuracy: 0.9931 - val_loss: 0.0475 - val_accuracy: 0.9851 - lr: 1.0000e-05\n",
      "Epoch 19/20\n",
      "1494/1500 [============================>.] - ETA: 0s - loss: 0.0258 - accuracy: 0.9931\n",
      "Epoch 19: val_loss improved from 0.04745 to 0.04713, saving model to lenet_mnist.best.hdf5\n",
      "1500/1500 [==============================] - 10s 7ms/step - loss: 0.0257 - accuracy: 0.9932 - val_loss: 0.0471 - val_accuracy: 0.9851 - lr: 1.0000e-05\n",
      "Epoch 20/20\n",
      "1498/1500 [============================>.] - ETA: 0s - loss: 0.0255 - accuracy: 0.9933\n",
      "Epoch 20: val_loss improved from 0.04713 to 0.04693, saving model to lenet_mnist.best.hdf5\n",
      "1500/1500 [==============================] - 10s 7ms/step - loss: 0.0254 - accuracy: 0.9933 - val_loss: 0.0469 - val_accuracy: 0.9850 - lr: 1.0000e-05\n"
     ]
    },
    {
     "data": {
      "text/plain": [
       "<keras.callbacks.History at 0x1b420a65510>"
      ]
     },
     "execution_count": 28,
     "metadata": {},
     "output_type": "execute_result"
    }
   ],
   "source": [
    "model.fit(x=X_train,\n",
    "          y=y_cat_train,\n",
    "          batch_size=32,\n",
    "          epochs=20,\n",
    "          validation_split=0.2,\n",
    "          callbacks=[lr_scheduler, checkpoint, early_stop])"
   ]
  },
  {
   "cell_type": "markdown",
   "id": "2259b026",
   "metadata": {},
   "source": [
    "Load the best model by calling this function:"
   ]
  },
  {
   "cell_type": "code",
   "execution_count": 29,
   "id": "f4907153",
   "metadata": {},
   "outputs": [],
   "source": [
    "model.load_weights('lenet_mnist.best.hdf5')"
   ]
  },
  {
   "cell_type": "markdown",
   "id": "9984d425",
   "metadata": {},
   "source": [
    "### Evaluate Results"
   ]
  },
  {
   "cell_type": "code",
   "execution_count": 30,
   "id": "b4b12d61",
   "metadata": {},
   "outputs": [],
   "source": [
    "import pandas as pd"
   ]
  },
  {
   "cell_type": "code",
   "execution_count": 31,
   "id": "f5fe77d7",
   "metadata": {},
   "outputs": [
    {
     "data": {
      "text/plain": [
       "<AxesSubplot:>"
      ]
     },
     "execution_count": 31,
     "metadata": {},
     "output_type": "execute_result"
    },
    {
     "data": {
      "image/png": "[encoded data removed]",
      "text/plain": [
       "<Figure size 432x288 with 1 Axes>"
      ]
     },
     "metadata": {
      "needs_background": "light"
     },
     "output_type": "display_data"
    },
    {
     "data": {
      "image/png": "[encoded data removed]",
      "text/plain": [
       "<Figure size 432x288 with 1 Axes>"
      ]
     },
     "metadata": {
      "needs_background": "light"
     },
     "output_type": "display_data"
    }
   ],
   "source": [
    "losses = pd.DataFrame(model.history.history)\n",
    "losses[['accuracy','val_accuracy']].plot()\n",
    "losses[['loss','val_loss']].plot()"
   ]
  },
  {
   "cell_type": "code",
   "execution_count": 32,
   "id": "901ea78e",
   "metadata": {},
   "outputs": [
    {
     "name": "stdout",
     "output_type": "stream",
     "text": [
      "313/313 [==============================] - 1s 3ms/step - loss: 0.0400 - accuracy: 0.9858\n",
      "Classification loss on test set: 0.04002561792731285\n",
      "Classification accuracy on test set: 0.98580002784729\n"
     ]
    }
   ],
   "source": [
    "evaluation = model.evaluate(x= X_test, y= y_cat_test)\n",
    "print(\"Classification loss on test set: \" + str(evaluation[0]))\n",
    "print(\"Classification accuracy on test set: \" + str(evaluation[1]))"
   ]
  },
  {
   "cell_type": "markdown",
   "id": "53640a40",
   "metadata": {},
   "source": [
    "#### Classification report"
   ]
  },
  {
   "cell_type": "code",
   "execution_count": 33,
   "id": "2970a0e6",
   "metadata": {},
   "outputs": [],
   "source": [
    "from sklearn.metrics import classification_report, confusion_matrix"
   ]
  },
  {
   "cell_type": "code",
   "execution_count": 34,
   "id": "286d7a9d",
   "metadata": {},
   "outputs": [
    {
     "name": "stdout",
     "output_type": "stream",
     "text": [
      "313/313 [==============================] - 1s 3ms/step\n"
     ]
    }
   ],
   "source": [
    "pred = model.predict(X_test)\n",
    "predictions = []\n",
    "for i in pred:\n",
    "    predictions.append(np.argmax(i))"
   ]
  },
  {
   "cell_type": "code",
   "execution_count": 36,
   "id": "880733ed",
   "metadata": {},
   "outputs": [
    {
     "name": "stdout",
     "output_type": "stream",
     "text": [
      "              precision    recall  f1-score   support\n",
      "\n",
      "           0       0.99      0.99      0.99       980\n",
      "           1       1.00      0.99      0.99      1135\n",
      "           2       0.98      0.99      0.99      1032\n",
      "           3       0.98      0.99      0.99      1010\n",
      "           4       0.98      0.98      0.98       982\n",
      "           5       0.98      0.98      0.98       892\n",
      "           6       0.99      0.99      0.99       958\n",
      "           7       0.98      0.99      0.98      1028\n",
      "           8       0.99      0.98      0.98       974\n",
      "           9       0.98      0.97      0.98      1009\n",
      "\n",
      "    accuracy                           0.99     10000\n",
      "   macro avg       0.99      0.99      0.99     10000\n",
      "weighted avg       0.99      0.99      0.99     10000\n",
      "\n"
     ]
    }
   ],
   "source": [
    "report = classification_report(y_test, predictions)\n",
    "print(report)"
   ]
  },
  {
   "cell_type": "markdown",
   "id": "1411cadd",
   "metadata": {},
   "source": [
    "#### Confusion Matrix "
   ]
  },
  {
   "cell_type": "code",
   "execution_count": 37,
   "id": "f438569e",
   "metadata": {},
   "outputs": [],
   "source": [
    "import seaborn as sns"
   ]
  },
  {
   "cell_type": "code",
   "execution_count": 38,
   "id": "6c99e148",
   "metadata": {},
   "outputs": [
    {
     "name": "stdout",
     "output_type": "stream",
     "text": [
      "[[ 970    0    1    0    1    0    2    2    3    1]\n",
      " [   0 1128    2    1    0    1    2    0    1    0]\n",
      " [   1    1 1023    0    1    0    0    3    3    0]\n",
      " [   0    0    3  997    0    3    0    1    3    3]\n",
      " [   0    0    1    0  967    0    5    3    0    6]\n",
      " [   2    0    0    7    0  876    5    1    0    1]\n",
      " [   2    1    1    0    3    2  947    0    2    0]\n",
      " [   0    1    7    3    1    0    0 1013    0    3]\n",
      " [   4    0    1    3    2    3    0    3  955    3]\n",
      " [   3    2    1    3    8    5    0    3    2  982]]\n"
     ]
    }
   ],
   "source": [
    "c_matrix = confusion_matrix(y_test, predictions)\n",
    "print(c_matrix)"
   ]
  },
  {
   "cell_type": "code",
   "execution_count": 39,
   "id": "b7efcdd7",
   "metadata": {},
   "outputs": [
    {
     "data": {
      "text/plain": [
       "<AxesSubplot:>"
      ]
     },
     "execution_count": 39,
     "metadata": {},
     "output_type": "execute_result"
    },
    {
     "data": {
      "image/png": "[encoded data removed]",
      "text/plain": [
       "<Figure size 720x720 with 2 Axes>"
      ]
     },
     "metadata": {
      "needs_background": "light"
     },
     "output_type": "display_data"
    }
   ],
   "source": [
    "plt.figure(figsize=(10,10))\n",
    "sns.heatmap(c_matrix, annot=True)"
   ]
  }
 ],
 "metadata": {
  "kernelspec": {
   "display_name": "Python [conda env:opencv4]",
   "language": "python",
   "name": "conda-env-opencv4-py"
  },
  "language_info": {
   "codemirror_mode": {
    "name": "ipython",
    "version": 3
   },
   "file_extension": ".py",
   "mimetype": "text/x-python",
   "name": "python",
   "nbconvert_exporter": "python",
   "pygments_lexer": "ipython3",
   "version": "3.10.4"
  }
 },
 "nbformat": 4,
 "nbformat_minor": 5
}
